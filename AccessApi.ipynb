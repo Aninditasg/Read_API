{
 "cells": [
  {
   "cell_type": "code",
   "execution_count": null,
   "metadata": {},
   "outputs": [],
   "source": [
    "#!/usr/bin/env python\n",
    "\n",
    "import urllib2\n",
    "import json\n",
    "\n",
    "locu_api = 'YOUR KEY HERE'\n",
    "\n",
    "def locu_search(query):\n",
    "    api_key = locu_api\n",
    "    url = 'https://api.locu.com/v1_0/venue/search/?api_key=' + api_key\n",
    "    locality = query.replace(' ', '%20')\n",
    "    final_url = url + \"&locality=\" + locality + \"&category=restaurant\"\n",
    "    json_obj = urllib2.urlopen(final_url)\n",
    "    data = json.load(json_obj)\n",
    "    \n",
    "    for item in data['objects']:\n",
    "        print item['name'], item['phone'"
   ]
  }
 ],
 "metadata": {
  "kernelspec": {
   "display_name": "Python 3",
   "language": "python",
   "name": "python3"
  },
  "language_info": {
   "codemirror_mode": {
    "name": "ipython",
    "version": 3
   },
   "file_extension": ".py",
   "mimetype": "text/x-python",
   "name": "python",
   "nbconvert_exporter": "python",
   "pygments_lexer": "ipython3",
   "version": "3.7.3"
  }
 },
 "nbformat": 4,
 "nbformat_minor": 2
}
